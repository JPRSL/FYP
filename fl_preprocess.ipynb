{
 "cells": [
  {
   "cell_type": "code",
   "execution_count": null,
   "id": "2374d65a",
   "metadata": {},
   "outputs": [],
   "source": [
    "import pandas as pd\n",
    "import glob\n",
    "import torch\n",
    "import torch.nn as nn\n",
    "from torch.utils.data import Dataset, DataLoader\n",
    "import torch.optim as optim\n",
    "import pandas as pd\n",
    "import numpy as np\n",
    "from sklearn.preprocessing import MinMaxScaler, OneHotEncoder\n",
    "from sklearn.metrics import mean_absolute_error, mean_squared_error, r2_score\n",
    "import tqdm\n",
    "import matplotlib.pyplot as plt"
   ]
  },
  {
   "cell_type": "code",
   "execution_count": null,
   "id": "22a3ec1d",
   "metadata": {},
   "outputs": [],
   "source": [
    "# Merge individual customer CSV files into a single CSV\n",
    "dfs = []\n",
    "# Read all CSV files in the specified directory\n",
    "for folder in [\"2010-2011\", \"2011-2012\", \"2012-2013\"]:\n",
    "    for file in glob.glob(f\"./processed_data/{folder}/*.csv\"):\n",
    "        df = pd.read_csv(file)\n",
    "        dfs.append(df)\n",
    "\n",
    "df_agg = pd.concat(dfs, ignore_index=True)\n",
    "df_agg = df_agg.sort_values(by=[\"Customer\", \"datetime\"])\n",
    "df_agg.to_csv(\"./model_input_data/2010-2013_combined.csv\", index=False)\n",
    "\n",
    "# Keep relevant columns\n",
    "df_agg = df_agg[[\"Customer\", \"datetime\", \"GG\", \"NL\"]]\n",
    "\n",
    "df_agg.to_csv(\"./model_input_data/2010-2013_processed.csv\", index=False)"
   ]
  },
  {
   "cell_type": "code",
   "execution_count": null,
   "id": "6d45ada4",
   "metadata": {},
   "outputs": [],
   "source": [
    "df = df_agg.copy()"
   ]
  },
  {
   "cell_type": "code",
   "execution_count": null,
   "id": "ba876654",
   "metadata": {},
   "outputs": [],
   "source": [
    "# Split data into 4 communities of 75 customers\n",
    "communities = {\n",
    "    \"community_1\": range(1, 76),\n",
    "    \"community_2\": range(76, 151),\n",
    "    \"community_3\": range(151, 226),\n",
    "    \"community_4\": range(226, 301),\n",
    "}\n",
    "\n",
    "for community, cid in communities.items():\n",
    "    # Select customers in the current community\n",
    "    print(f\"Processing {community} with customer IDs: {cid}\")\n",
    "\n",
    "    df_community = df[df[\"Customer\"].isin(cid)]\n",
    "    df_community.to_csv(f\"./model_input_data/{community}.csv\", index=False)\n",
    "\n",
    "    df_community = df_community.groupby(\"datetime\")[[\"Customer\", \"GG\", \"NL\"]].sum().reset_index()\n",
    "    df_community.to_csv(f\"./model_input_data/{community}_agg.csv\", index=False)\n",
    "    df_community = df_community.drop(columns=[\"Customer\"])\n",
    "\n",
    "    df_community[\"datetime\"] = pd.to_datetime(df_community[\"datetime\"])  # Ensure datetime is in correct format\n",
    "\n",
    "    # Add feature columns\n",
    "    df_community[\"NL_t-24\"] = df_community[\"NL\"].shift(48)  # Shift by 48 half-hours (1 day)\n",
    "    df_community[\"NL_t-24*7\"] = df_community[\"NL\"].shift(48*7)  # Shift by 336 half-hours (7 days)\n",
    "    df_community[\"NL_t-24*30\"] = df_community[\"NL\"].shift(48*30)  # Shift by 1440 half-hours (30 days)\n",
    "\n",
    "    df_community[\"Month\"] = df_community[\"datetime\"].dt.month  # Extract month from datetime\n",
    "    df_community[\"Season\"] = (df_community[\"Month\"] % 12) // 3 + 1  # Convert month to season (1-4)\n",
    "    df_community[\"is_weekend\"] = (df_community[\"datetime\"].dt.weekday >= 5).astype(int)  # 1 if Saturday or Sunday\n",
    "\n",
    "    # Restrict time from 5am to 8pm\n",
    "    df_community = df_community[(df_community[\"datetime\"].dt.hour >= 5) & (df_community[\"datetime\"].dt.hour <= 20)]\n",
    "\n",
    "    # Backfill missing values\n",
    "    df_community = df_community.bfill()\n",
    "\n",
    "    categorical_columns = [\"Month\", \"Season\"]\n",
    "\n",
    "    # Apply one-hot encoding for categorical columns\n",
    "    encoder = OneHotEncoder(sparse_output=False)\n",
    "    encoded_array = encoder.fit_transform(df_community[categorical_columns])\n",
    "    df_encoded = pd.DataFrame(encoded_array, columns=encoder.get_feature_names_out(categorical_columns))\n",
    "    \n",
    "    # Reset index before concat\n",
    "    df_encoded = df_encoded.reset_index(drop=True)\n",
    "    df_community = df_community.reset_index(drop=True)\n",
    "\n",
    "    df_community = pd.concat([df_community, df_encoded], axis=1)\n",
    "    df_community.drop(columns=categorical_columns, inplace=True)\n",
    "\n",
    "    df_community.to_csv(f\"./flmodel_data/{community}.csv\", index=False)\n",
    "    \n",
    "    #df_train_community = df_train[df_train[\"Customer\"].isin(cid)]\n",
    "    #df_test_community = df_test[df_test[\"Customer\"].isin(cid)]\n",
    "    \n",
    "    #df_train_community.to_csv(f\"./community_data/{community}_train.csv\", index=False)\n",
    "    #df_test_community.to_csv(f\"./community_data/{community}_test.csv\", index=False)"
   ]
  },
  {
   "cell_type": "code",
   "execution_count": null,
   "id": "b0530fca",
   "metadata": {},
   "outputs": [],
   "source": [
    "for i in range(1, 13):\n",
    "    season_number = i % 12 // 3 + 1\n",
    "    season_name = \"summer\" if i in [12, 1, 2] else \"autumn\" if i in [3, 4, 5] else \"winter\" if i in [6, 7, 8] else \"spring\"\n",
    "    print(f\"{i} {season_name} {season_number}\")"
   ]
  },
  {
   "cell_type": "code",
   "execution_count": null,
   "id": "8e0dee91",
   "metadata": {},
   "outputs": [],
   "source": [
    "df_verify = pd.read_csv(\"./flmodel_data/community_4.csv\")\n",
    "# Filter to show rows by Month\n",
    "df_verify[\"datetime\"] = pd.to_datetime(df_verify[\"datetime\"])  # Ensure datetime is in correct format\n",
    "df_test = df_verify[df_verify[\"datetime\"].dt.month == 7]\n",
    "df_test.head()"
   ]
  },
  {
   "cell_type": "code",
   "execution_count": null,
   "id": "0b1c9f12",
   "metadata": {},
   "outputs": [],
   "source": [
    "df_test = df_verify[df_verify[\"datetime\"].dt.month == 10]\n",
    "df_test.head()"
   ]
  }
 ],
 "metadata": {
  "kernelspec": {
   "display_name": ".venv",
   "language": "python",
   "name": "python3"
  },
  "language_info": {
   "codemirror_mode": {
    "name": "ipython",
    "version": 3
   },
   "file_extension": ".py",
   "mimetype": "text/x-python",
   "name": "python",
   "nbconvert_exporter": "python",
   "pygments_lexer": "ipython3",
   "version": "3.12.3"
  }
 },
 "nbformat": 4,
 "nbformat_minor": 5
}
