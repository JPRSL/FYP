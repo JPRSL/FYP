{
 "cells": [
  {
   "cell_type": "code",
   "execution_count": 2,
   "id": "5fb96d2c",
   "metadata": {},
   "outputs": [],
   "source": [
    "import pandas as pd"
   ]
  },
  {
   "cell_type": "code",
   "execution_count": null,
   "id": "5a6745c3",
   "metadata": {},
   "outputs": [
    {
     "name": "stdout",
     "output_type": "stream",
     "text": [
      "File: check_data/2010-2011 Solar home electricity data.csv\n",
      "File: check_data/2011-2012 Solar home electricity data v2.csv\n",
      "File: check_data/2012-2013 Solar home electricity data v2.csv\n",
      "Customer 2 has less than 365 unique dates.\n"
     ]
    }
   ],
   "source": [
    "# Iterate through file in folder check_data\n",
    "for file in [\"check_data/2010-2011 Solar home electricity data.csv\",\n",
    "             \"check_data/2011-2012 Solar home electricity data v2.csv\", \n",
    "             \"check_data/2012-2013 Solar home electricity data v2.csv\"]:\n",
    "    df = pd.read_csv(file, skiprows=1)\n",
    "    print(f\"File: {file}\")\n",
    "    for customer in range(1, 301):\n",
    "        df_customer = df[df['Customer'] == customer]\n",
    "        if df_customer['date'].nunique() < 365:\n",
    "            print(f\"Customer {customer} has less than 365 unique dates.\")"
   ]
  }
 ],
 "metadata": {
  "kernelspec": {
   "display_name": ".venv",
   "language": "python",
   "name": "python3"
  },
  "language_info": {
   "codemirror_mode": {
    "name": "ipython",
    "version": 3
   },
   "file_extension": ".py",
   "mimetype": "text/x-python",
   "name": "python",
   "nbconvert_exporter": "python",
   "pygments_lexer": "ipython3",
   "version": "3.12.3"
  }
 },
 "nbformat": 4,
 "nbformat_minor": 5
}
