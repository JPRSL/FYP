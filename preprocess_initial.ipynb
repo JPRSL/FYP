{
 "cells": [
  {
   "cell_type": "code",
   "execution_count": null,
   "metadata": {},
   "outputs": [],
   "source": [
    "import pandas as pd\n",
    "import numpy as np\n",
    "import glob"
   ]
  },
  {
   "cell_type": "code",
   "execution_count": null,
   "metadata": {},
   "outputs": [],
   "source": [
    "# Function to preprocess yearly household data\n",
    "def preprocess(df):\n",
    "    # loop through 300 customers\n",
    "    for i in range(1, 301):\n",
    "        customer_data = df[df['Customer'] == i]\n",
    "        # Remove unnecessary columns\n",
    "        customer_data = customer_data.drop(columns=['Generator Capacity', 'Postcode'])\n",
    "\n",
    "        # Reshape data into long format\n",
    "        try:\n",
    "            customer_data = pd.melt(customer_data, id_vars=['Customer', 'date', 'Consumption Category', 'Row Quality'], var_name='Time')\n",
    "        except:\n",
    "            customer_data = pd.melt(customer_data, id_vars=['Customer', 'date', 'Consumption Category'], var_name='Time')\n",
    "        #customer_data.to_csv('customer_data.csv', index=False)\n",
    "\n",
    "        # Zero pad date to format before conversion\n",
    "        customer_data['date'] = customer_data['date'].astype(str)\n",
    "        zero_padded_date = []\n",
    "        for date in customer_data['date']:\n",
    "            if len(date) < 9:\n",
    "                new_date = '0' + date\n",
    "                zero_padded_date.append(new_date)\n",
    "            else:\n",
    "                zero_padded_date.append(date)\n",
    "\n",
    "        customer_data['date'] = zero_padded_date\n",
    "\n",
    "        customer_data['Time'] = customer_data['Time'].astype(str)\n",
    "        \n",
    "        customer_data['datetime'] = customer_data['date'] + ' ' + customer_data['Time']\n",
    "\n",
    "        # Convert to datetime format\n",
    "        try:\n",
    "            customer_data['datetime'] = pd.to_datetime(customer_data['datetime'], format='%d-%b-%y %H:%M')\n",
    "        except:\n",
    "            customer_data['datetime'] = pd.to_datetime(customer_data['datetime'], format='%d/%m/%Y %H:%M')\n",
    "        customer_data = customer_data.sort_values('datetime')\n",
    "        #customer_data.to_csv('customer_data_new.csv', index=False)\n",
    "\n",
    "        # Create file name for each individual customer\n",
    "        year = customer_data['datetime'].iloc[0].year\n",
    "        year_interval = str(year) + '-' + str(year + 1)\n",
    "        file_name = 'NL_' + year_interval + '_' + str(i) + '.csv'\n",
    "\n",
    "        # Separate consumption categories\n",
    "        gc_data = customer_data[customer_data['Consumption Category'] == 'GC']\n",
    "        cl_data = customer_data[customer_data['Consumption Category'] == 'CL']\n",
    "        gg_data = customer_data[customer_data['Consumption Category'] == 'GG']\n",
    "\n",
    "        gc_data = gc_data.rename(columns = {'value': 'GC'})\n",
    "        cl_data = cl_data.rename(columns = {'value': 'CL'})\n",
    "        gg_data = gg_data.rename(columns = {'value': 'GG'})\n",
    "\n",
    "        gc_data = gc_data.drop(columns=['Consumption Category'])\n",
    "        cl_data = cl_data.drop(columns=['Consumption Category'])\n",
    "        gg_data = gg_data.drop(columns=['Consumption Category'])\n",
    "\n",
    "        gc_data.to_csv('data_gc.csv', index=False)\n",
    "        cl_data.to_csv('data_cl.csv', index=False)\n",
    "        gg_data.to_csv('data_gg.csv', index=False)\n",
    "\n",
    "        # Compute net load depending on presence of CL\n",
    "        if cl_data.empty == False:\n",
    "            nl_data = pd.merge(gc_data, gg_data, on=['Customer', 'date', 'Time', 'datetime'], how='outer')\n",
    "            nl_data = pd.merge(nl_data, cl_data, on=['Customer', 'date', 'Time', 'datetime'], how='outer')\n",
    "\n",
    "            # Sort the merged data by datetime\n",
    "            nl_data = nl_data.sort_values('datetime')\n",
    "\n",
    "            # Fill NaN values with 0\n",
    "            nl_data = nl_data.fillna(0)\n",
    "\n",
    "            # Calculate net load\n",
    "            nl_data['NL'] = nl_data['GC'] + nl_data['CL'] - nl_data['GG']\n",
    "            nl_data.to_csv('processed_data/' + year_interval + '/' + file_name, index=False)\n",
    "        else:\n",
    "            nl_data = pd.merge(gc_data, gg_data, on=['Customer', 'date', 'Time', 'datetime'])\n",
    "            nl_data['NL'] = nl_data['GC'] - nl_data['GG']\n",
    "            nl_data.to_csv('processed_data/' + year_interval + '/' + file_name, index=False)"
   ]
  },
  {
   "cell_type": "code",
   "execution_count": null,
   "metadata": {},
   "outputs": [],
   "source": [
    "# Test for detecting whether missing data is present\n",
    "missing_data = pd.read_csv('raw_data/missing_data_test.csv', skiprows=1)\n",
    "missing_values = missing_data.isnull()\n",
    "print(missing_values.value_counts())"
   ]
  },
  {
   "cell_type": "code",
   "execution_count": null,
   "metadata": {},
   "outputs": [],
   "source": [
    "y1_data = pd.read_csv('raw_data/2010-2011 Solar home electricity data.csv', skiprows=1)\n",
    "y1_data.head()"
   ]
  },
  {
   "cell_type": "code",
   "execution_count": null,
   "metadata": {},
   "outputs": [],
   "source": [
    "y2_data = pd.read_csv('raw_data/2011-2012 Solar home electricity data v2.csv', skiprows=1)\n",
    "y3_data = pd.read_csv('raw_data/2012-2013 Solar home electricity data v2.csv', skiprows=1)"
   ]
  },
  {
   "cell_type": "code",
   "execution_count": null,
   "metadata": {},
   "outputs": [],
   "source": [
    "missing_values = y1_data.isnull()\n",
    "print(missing_values.value_counts())"
   ]
  },
  {
   "cell_type": "code",
   "execution_count": null,
   "metadata": {},
   "outputs": [],
   "source": [
    "missing_values = y2_data.isnull()\n",
    "print(missing_values.value_counts())"
   ]
  },
  {
   "cell_type": "code",
   "execution_count": null,
   "metadata": {},
   "outputs": [],
   "source": [
    "missing_values = y3_data.isnull()\n",
    "print(missing_values.value_counts())"
   ]
  },
  {
   "cell_type": "code",
   "execution_count": null,
   "metadata": {},
   "outputs": [],
   "source": [
    "preprocess(y1_data)"
   ]
  },
  {
   "cell_type": "code",
   "execution_count": null,
   "metadata": {},
   "outputs": [],
   "source": [
    "preprocess(y2_data)"
   ]
  },
  {
   "cell_type": "code",
   "execution_count": null,
   "metadata": {},
   "outputs": [],
   "source": [
    "preprocess(y3_data)"
   ]
  }
 ],
 "metadata": {
  "kernelspec": {
   "display_name": ".venv",
   "language": "python",
   "name": "python3"
  },
  "language_info": {
   "codemirror_mode": {
    "name": "ipython",
    "version": 3
   },
   "file_extension": ".py",
   "mimetype": "text/x-python",
   "name": "python",
   "nbconvert_exporter": "python",
   "pygments_lexer": "ipython3",
   "version": "3.12.3"
  }
 },
 "nbformat": 4,
 "nbformat_minor": 2
}
